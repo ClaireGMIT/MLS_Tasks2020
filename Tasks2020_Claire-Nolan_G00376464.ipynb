{
 "cells": [
  {
   "cell_type": "markdown",
   "metadata": {},
   "source": [
    "# Machine Learning and Statisitics 2020\n",
    "\n",
    "## Tasks 2020\n",
    "\n",
    "### Student ID: Claire Nolan G00376464\n"
   ]
  },
  {
   "cell_type": "markdown",
   "metadata": {},
   "source": [
    "## Question 1\n",
    "Write a Python function called sqrt2 that calculates and\n",
    "prints to the screen the square root of 2 to 100 decimal places. Your code should\n",
    "not depend on any module from the standard library1 or otherwise. You should\n",
    "research the task first and include references and a description of your algorithm."
   ]
  },
  {
   "cell_type": "markdown",
   "metadata": {},
   "source": [
    "### Research:\n",
    "\n",
    "https://medium.com/better-programming/master-markdown-in-ten-minutes-ce9721c51eb\n",
    "\n",
    "\n",
    "\n"
   ]
  },
  {
   "cell_type": "code",
   "execution_count": 1,
   "metadata": {},
   "outputs": [
    {
     "ename": "SyntaxError",
     "evalue": "unexpected EOF while parsing (<ipython-input-1-0f20aebd879e>, line 9)",
     "output_type": "error",
     "traceback": [
      "\u001b[1;36m  File \u001b[1;32m\"<ipython-input-1-0f20aebd879e>\"\u001b[1;36m, line \u001b[1;32m9\u001b[0m\n\u001b[1;33m    print(\"The Square Root of a Given Number {0}  = {1}\".format(number, squareRoot)\u001b[0m\n\u001b[1;37m                                                                                   ^\u001b[0m\n\u001b[1;31mSyntaxError\u001b[0m\u001b[1;31m:\u001b[0m unexpected EOF while parsing\n"
     ]
    }
   ],
   "source": [
    "# Python Program to find Square root of a Number\n",
    "\n",
    "import math\n",
    "\n",
    "number = float(input(\" Please Enter any numeric Value : \"))\n",
    "\n",
    "squareRoot = math.sqrt(number)\n",
    "\n",
    "print(\"The Square Root of a Given Number {0}  = {1}\".format(number, squareRoot)"
   ]
  },
  {
   "cell_type": "markdown",
   "metadata": {},
   "source": [
    "#https://www.geeksforgeeks.org/square-root-of-a-perfect-square/\n",
    "\n",
    "Babylonian method for square root\n",
    "\n",
    "Algorithm:This method can be derived from (but predates) Newton–Raphson method.\n",
    "\n",
    "\n",
    "1 Start with an arbitrary positive start value x (the closer to the \n",
    "   root, the better).\n",
    "2 Initialize y = 1.\n",
    "3. Do following until desired approximation is achieved.\n",
    "  a) Get the next approximation for root using average of x and y\n",
    "  b) Set y = n/x\n",
    "\n"
   ]
  },
  {
   "cell_type": "code",
   "execution_count": 6,
   "metadata": {},
   "outputs": [
    {
     "name": "stdout",
     "output_type": "stream",
     "text": [
      "Square root of 2 is 1.4142135623746899\n"
     ]
    }
   ],
   "source": [
    "def squareRoot(n): \n",
    "  \n",
    "    # We are using n itself as \n",
    "    # initial approximation This \n",
    "    # can definitely be improved  \n",
    "        x = n \n",
    "        y = 1\n",
    "          \n",
    "        # e decides the accuracy level \n",
    "        e = 0.000001\n",
    "        while(x - y > e): \n",
    "      \n",
    "            x = (x + y)/2\n",
    "            y = n / x \n",
    "      \n",
    "        return x \n",
    "  \n",
    "# Driver program to test  \n",
    "# above function \n",
    "n = 2\n",
    "  \n",
    "print(\"Square root of\", n, \"is\", \n",
    "              round(squareRoot(n), 100)) \n",
    "  \n",
    "## 24th October: Very early success?? ie i can get the root of 2 but only to 16 decimal places even though requested rounding to 100\n",
    "## i don't understand why this works so i want to go back and understand the code"
   ]
  },
  {
   "cell_type": "code",
   "execution_count": null,
   "metadata": {},
   "outputs": [],
   "source": []
  }
 ],
 "metadata": {
  "kernelspec": {
   "display_name": "Python 3",
   "language": "python",
   "name": "python3"
  },
  "language_info": {
   "codemirror_mode": {
    "name": "ipython",
    "version": 3
   },
   "file_extension": ".py",
   "mimetype": "text/x-python",
   "name": "python",
   "nbconvert_exporter": "python",
   "pygments_lexer": "ipython3",
   "version": "3.7.3"
  }
 },
 "nbformat": 4,
 "nbformat_minor": 4
}
